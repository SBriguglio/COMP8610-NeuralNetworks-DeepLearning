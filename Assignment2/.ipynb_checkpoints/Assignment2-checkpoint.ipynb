{
 "cells": [
  {
   "cell_type": "markdown",
   "id": "c300e61e-a010-478e-aa49-c299a119a97e",
   "metadata": {},
   "source": [
    "# COMP 8610: Assignment 2\n",
    "\n",
    "Spencer Briguglio&nbsp;103 746 720</br>\n",
    "Nour Elkot&nbsp;&nbsp;&nbsp;&nbsp;&nbsp;&nbsp;&nbsp;&nbsp;&nbsp;&nbsp;&nbsp;104 982 352</br>\n",
    "Karan Vishavjit&nbsp;&nbsp;&nbsp;&nbsp;&nbsp;110 099 867"
   ]
  },
  {
   "cell_type": "markdown",
   "id": "2bbb1fee-4ea1-416e-8fe5-b2130e0de80c",
   "metadata": {},
   "source": [
    "## Question 1\n",
    "### Prepare the Data"
   ]
  },
  {
   "cell_type": "code",
   "execution_count": 32,
   "id": "0ab791ec-aad8-44b8-8afa-55dcdced3a72",
   "metadata": {
    "execution": {
     "iopub.execute_input": "2023-05-26T00:29:46.190920Z",
     "iopub.status.busy": "2023-05-26T00:29:46.190537Z",
     "iopub.status.idle": "2023-05-26T00:29:46.195997Z",
     "shell.execute_reply": "2023-05-26T00:29:46.195082Z",
     "shell.execute_reply.started": "2023-05-26T00:29:46.190894Z"
    },
    "tags": []
   },
   "outputs": [],
   "source": [
    "# Imports\n",
    "import numpy as np\n",
    "import matplotlib.pyplot as plt\n",
    "import logging\n",
    "import math\n",
    "\n",
    "# Set random seed\n",
    "np.random.seed = 7"
   ]
  },
  {
   "cell_type": "code",
   "execution_count": 33,
   "id": "69641cdf-0dd7-46b6-a343-fd60286301e9",
   "metadata": {
    "execution": {
     "iopub.execute_input": "2023-05-26T00:29:46.624145Z",
     "iopub.status.busy": "2023-05-26T00:29:46.623791Z",
     "iopub.status.idle": "2023-05-26T00:29:46.632537Z",
     "shell.execute_reply": "2023-05-26T00:29:46.631802Z",
     "shell.execute_reply.started": "2023-05-26T00:29:46.624120Z"
    },
    "tags": []
   },
   "outputs": [],
   "source": [
    "# Generate 5000 synthetic data points (x,y)\n",
    "# Vector X\n",
    "X_mu = 0\n",
    "X_std = 1\n",
    "X_ = np.random.normal(X_mu, X_std, size=(5000,1))\n",
    "\n",
    "# Vector Eps\n",
    "eps_mu = 0\n",
    "eps_std = np.sqrt(0.25)\n",
    "eps_ = np.random.normal(eps_mu, eps_std, size=(5000,1))\n",
    "\n",
    "# Generate the Y vector\n",
    "Y_ = np.zeros(shape=(1,5000))\n",
    "Y_ = -1 + (0.5 * X_) - (2 * X_**2) + (0.3 * X_**3) + eps_"
   ]
  },
  {
   "cell_type": "code",
   "execution_count": 34,
   "id": "fd6a4a94-0758-4ab0-b300-3a8fc2ccad91",
   "metadata": {
    "execution": {
     "iopub.execute_input": "2023-05-26T00:29:47.309733Z",
     "iopub.status.busy": "2023-05-26T00:29:47.309156Z",
     "iopub.status.idle": "2023-05-26T00:29:47.449708Z",
     "shell.execute_reply": "2023-05-26T00:29:47.448849Z",
     "shell.execute_reply.started": "2023-05-26T00:29:47.309704Z"
    },
    "tags": []
   },
   "outputs": [
    {
     "data": {
      "image/png": "[encoded data removed]",
      "text/plain": [
       "<Figure size 640x480 with 1 Axes>"
      ]
     },
     "metadata": {},
     "output_type": "display_data"
    }
   ],
   "source": [
    "# Y vs X Scatterplot\n",
    "plt.scatter(X_, Y_)\n",
    "\n",
    "plt.title(\"Vector X vs Vector Y\")\n",
    "plt.xlabel(\"Vector X\")\n",
    "plt.ylabel(\"Vector Y\")\n",
    "plt.show()"
   ]
  },
  {
   "cell_type": "markdown",
   "id": "ba243b24-1f15-45db-b8ec-d2813dcf2d41",
   "metadata": {},
   "source": [
    "## Adaline Neuron"
   ]
  },
  {
   "cell_type": "code",
   "execution_count": 49,
   "id": "c1c96cd6-35a6-4ec1-8c5d-afe47021c16a",
   "metadata": {
    "execution": {
     "iopub.execute_input": "2023-05-26T01:35:33.257092Z",
     "iopub.status.busy": "2023-05-26T01:35:33.256695Z",
     "iopub.status.idle": "2023-05-26T01:35:33.275820Z",
     "shell.execute_reply": "2023-05-26T01:35:33.275004Z",
     "shell.execute_reply.started": "2023-05-26T01:35:33.257067Z"
    },
    "tags": []
   },
   "outputs": [],
   "source": [
    "# Define Neuron\n",
    "class neuron:\n",
    "    def __init__(self, mode=\"adaline\", descent_method=\"bgd\", dim=1, learning_rate=0.1, epochs=100):\n",
    "        logger = logging.getLogger(__name__)\n",
    "        # Check parameters\n",
    "        try:\n",
    "            if (mode != \"adaline\"   and\n",
    "                mode != \"sigmoid_e\" and \n",
    "                mode != \"sigmoid_tanh\"):\n",
    "                raise ValueError(\"Invalid mode, \\\"{}\\\", passed to neuron class. Expected \\\"adaline\\\" or \\\"sigmoid_e\\\" or \\\"sigmoid_tanh\\\".\".format(mode))\n",
    "            elif descent_method != \"sgd\" and descent_method != \"bgd\":\n",
    "                raise ValueError(\"Invalid gradient descent method, \\\"{}\\\", passed to neuron class. Expected \\\"sgd\\\" or \\\"sigmoid\\\".\".format(descent_method))\n",
    "            \n",
    "            self.mode = mode                        # Adaline OR Sigmoid (Logisitc Function) OR Sigmoid (tanh)\n",
    "            self.descent_method = descent_method    # Batch/Standard Gradient Descent OR Stochastic Gradient Descent\n",
    "        except ValueError as error:\n",
    "            logger.error(error)\n",
    "            raise\n",
    "        \n",
    "        # Internal\n",
    "        self.dim = dim                              # Number of predictors\n",
    "        self.W = np.random.rand(self.dim+1, 1)      # Initialize weights to small random value\n",
    "        self.eta = learning_rate                    # Learning rate\n",
    "        self.epochs = epochs                        # Maximum number of training rounds\n",
    "        \n",
    "    # Private\n",
    "    def __activation(self, X_i):\n",
    "        # Activation Functions\n",
    "        def adaline(self, v):\n",
    "            # Yes, I could return v. I added this for readability\n",
    "            y_i = v\n",
    "            return y_i\n",
    "    \n",
    "        def sigmoid_e(self, v):\n",
    "            y_i = 1 / (1 + (math.e ** v))\n",
    "            return y_i\n",
    "    \n",
    "        def sigmoid_tanh(self, v):\n",
    "            y_i = math.tanh(v)\n",
    "            return y_i\n",
    "        \n",
    "        # net input (weighted sum)\n",
    "        v = self.W.T @ X_i\n",
    "        if self.mode == \"adaline\":\n",
    "            return adaline(v)\n",
    "        elif self.mode == \"sigmoid_e\":\n",
    "            return sigmoid_e(v)\n",
    "        elif self.mode == \"sigmoid_tanh\":\n",
    "            return sigmoid_tanh(v)\n",
    "    \n",
    "    # Training and Gradient Descent\n",
    "    # Batch/Standard Gradient Descent\n",
    "    def __train_bgd(self, X_):\n",
    "        # Initialize weight delta vector\n",
    "        delta_W = np.zeros(shape = self.W.shape)\n",
    "        # For each sample x_i in X_\n",
    "        for i in range(X_.shape[0]):\n",
    "            y_i = self.__activation(X_[i])\n",
    "            # For each weight vector component w_j in W\n",
    "            for j in range(self.W.shape[0]):\n",
    "                delta_W[j] = delta_W[j] + (self.eta * (Y_i[j] - y_i) * X_[i][j])\n",
    "        \n",
    "        # For each weight vector component w_j in W\n",
    "        for j in range(self.W.shape[0]):\n",
    "            self.W[j] = self.W[j] + delta_W[j]\n",
    "        return\n",
    "    \n",
    "    # Stochastic/Incremental Gradient Descent\n",
    "    def __train_sgd(self, X_, Y_):\n",
    "        # For each sample x_i in X_\n",
    "        for i in range(X_.shape[0]):\n",
    "            y_i = self.__activation(X_[i])\n",
    "            # For each weight vector component w_j in W\n",
    "            for j in range(self.W.shape[0]):\n",
    "                self.W[j] = self.W[j] + (self.eta * (Y_i[j] - y_i) * X_[i][j])\n",
    "        return\n",
    "    \n",
    "    def __train(self, X_, Y_):\n",
    "        if self.descent_method == \"bgd\":\n",
    "            self.__train_bgd(X_, Y_)\n",
    "            return self.MSE(X_, Y_)\n",
    "        elif self.descent_method == \"sgd\":\n",
    "            self.__train_sgd(X_, Y_)\n",
    "            return self.MSE(X_, Y_)\n",
    "    \n",
    "    # MSE\n",
    "    def __MSE(self, X_, Y_):\n",
    "        sum_of_error = 0\n",
    "        n = X_.shape[0]\n",
    "        # for every sample in X_\n",
    "        for i in range(n):\n",
    "            y_i_hat = self.__activation(X_[i])\n",
    "            squared_error = (Y_i[i] - y_i_hate) ** 2\n",
    "            sum_of_error += squared_error\n",
    "        return sum_of_error / n\n",
    "    \n",
    "    # Public\n",
    "    def fit(self, X_, Y_):\n",
    "        # Add x0=1 column to X_\n",
    "        X_ = np.append(np.ones((X_.shape[0], 1)), X_, axis=1)\n",
    "        delta_MSE = math.inf\n",
    "        epoch = 0\n",
    "        # while ? for ? until some termination condition is met\n",
    "        while delta_MSE > 1 and epoch < self.epochs:\n",
    "            self.__train(X_, Y_)\n",
    "        return self.MSE(X_, Y_)\n",
    "    \n",
    "    def predict(self, X_):\n",
    "        X_ = np.append(np.ones((X_.shape[0], 1)), X_, axis=1)\n",
    "        y_pred = np.array([X_.shape[0], 1])\n",
    "        # for every sample in X_, predict y_i_hat\n",
    "        for i in range(X_.shape[0]):\n",
    "            y_pred[i] = self.__activation(X_[i])\n",
    "        return y_pred"
   ]
  },
  {
   "cell_type": "code",
   "execution_count": 28,
   "id": "2d6616a0-142c-43de-903b-e6fcb977dff5",
   "metadata": {
    "execution": {
     "iopub.execute_input": "2023-05-26T00:09:58.366066Z",
     "iopub.status.busy": "2023-05-26T00:09:58.365693Z",
     "iopub.status.idle": "2023-05-26T00:09:58.369925Z",
     "shell.execute_reply": "2023-05-26T00:09:58.369092Z",
     "shell.execute_reply.started": "2023-05-26T00:09:58.366041Z"
    },
    "tags": []
   },
   "outputs": [],
   "source": [
    "n = neuron(mode=\"adaline\", descent_method=\"bgd\")"
   ]
  }
 ],
 "metadata": {
  "kernelspec": {
   "display_name": "saturn (Python 3)",
   "language": "python",
   "name": "python3"
  },
  "language_info": {
   "codemirror_mode": {
    "name": "ipython",
    "version": 3
   },
   "file_extension": ".py",
   "mimetype": "text/x-python",
   "name": "python",
   "nbconvert_exporter": "python",
   "pygments_lexer": "ipython3",
   "version": "3.9.15"
  }
 },
 "nbformat": 4,
 "nbformat_minor": 5
}
