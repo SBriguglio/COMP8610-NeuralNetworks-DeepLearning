{
 "cells": [
  {
   "cell_type": "markdown",
   "id": "c300e61e-a010-478e-aa49-c299a119a97e",
   "metadata": {},
   "source": [
    "# COMP 8610: Assignment 2\n",
    "\n",
    "Spencer Briguglio&nbsp;103 746 720</br>\n",
    "Nour Elkot&nbsp;&nbsp;&nbsp;&nbsp;&nbsp;&nbsp;&nbsp;&nbsp;&nbsp;&nbsp;&nbsp;104 982 352</br>\n",
    "Karan Vishavjit&nbsp;&nbsp;&nbsp;&nbsp;&nbsp;110 099 867"
   ]
  },
  {
   "cell_type": "markdown",
   "id": "2bbb1fee-4ea1-416e-8fe5-b2130e0de80c",
   "metadata": {},
   "source": [
    "## Question 1\n",
    "### Prepare the Data"
   ]
  },
  {
   "cell_type": "code",
   "execution_count": 1,
   "id": "0ab791ec-aad8-44b8-8afa-55dcdced3a72",
   "metadata": {
    "execution": {
     "iopub.execute_input": "2023-05-26T02:00:19.935948Z",
     "iopub.status.busy": "2023-05-26T02:00:19.935166Z",
     "iopub.status.idle": "2023-05-26T02:00:20.650677Z",
     "shell.execute_reply": "2023-05-26T02:00:20.649941Z",
     "shell.execute_reply.started": "2023-05-26T02:00:19.935913Z"
    },
    "tags": []
   },
   "outputs": [],
   "source": [
    "# Imports\n",
    "import numpy as np\n",
    "import matplotlib.pyplot as plt\n",
    "import logging\n",
    "import math\n",
    "\n",
    "# Set random seed\n",
    "np.random.seed = 7"
   ]
  },
  {
   "cell_type": "code",
   "execution_count": 2,
   "id": "69641cdf-0dd7-46b6-a343-fd60286301e9",
   "metadata": {
    "execution": {
     "iopub.execute_input": "2023-05-26T02:00:20.652475Z",
     "iopub.status.busy": "2023-05-26T02:00:20.652064Z",
     "iopub.status.idle": "2023-05-26T02:00:20.659792Z",
     "shell.execute_reply": "2023-05-26T02:00:20.658914Z",
     "shell.execute_reply.started": "2023-05-26T02:00:20.652442Z"
    },
    "tags": []
   },
   "outputs": [],
   "source": [
    "# Generate 5000 synthetic data points (x,y)\n",
    "# Vector X\n",
    "X_mu = 0\n",
    "X_std = 1\n",
    "X_ = np.random.normal(X_mu, X_std, size=(5000,1))\n",
    "\n",
    "# Vector Eps\n",
    "eps_mu = 0\n",
    "eps_std = np.sqrt(0.25)\n",
    "eps_ = np.random.normal(eps_mu, eps_std, size=(5000,1))\n",
    "\n",
    "# Generate the Y vector\n",
    "Y_ = np.zeros(shape=(1,5000))\n",
    "Y_ = -1 + (0.5 * X_) - (2 * X_**2) + (0.3 * X_**3) + eps_"
   ]
  },
  {
   "cell_type": "code",
   "execution_count": 3,
   "id": "fd6a4a94-0758-4ab0-b300-3a8fc2ccad91",
   "metadata": {
    "execution": {
     "iopub.execute_input": "2023-05-26T02:00:20.662825Z",
     "iopub.status.busy": "2023-05-26T02:00:20.662252Z",
     "iopub.status.idle": "2023-05-26T02:00:20.835243Z",
     "shell.execute_reply": "2023-05-26T02:00:20.834525Z",
     "shell.execute_reply.started": "2023-05-26T02:00:20.662793Z"
    },
    "tags": []
   },
   "outputs": [
    {
     "data": {
      "image/png": "[encoded data removed]",
      "text/plain": [
       "<Figure size 640x480 with 1 Axes>"
      ]
     },
     "metadata": {},
     "output_type": "display_data"
    }
   ],
   "source": [
    "# Y vs X Scatterplot\n",
    "plt.scatter(X_, Y_)\n",
    "\n",
    "plt.title(\"Vector X vs Vector Y\")\n",
    "plt.xlabel(\"Vector X\")\n",
    "plt.ylabel(\"Vector Y\")\n",
    "plt.show()"
   ]
  },
  {
   "cell_type": "markdown",
   "id": "ba243b24-1f15-45db-b8ec-d2813dcf2d41",
   "metadata": {},
   "source": [
    "## Adaline Neuron"
   ]
  },
  {
   "cell_type": "markdown",
   "id": "5c552fee-cbb8-4728-a04b-9c86fa35c2fc",
   "metadata": {},
   "source": [
    "## ISSUES\n",
    "- Need help with debugging the algorithm itself. I though I had followed the gradient decent algos to the tee but maybe I am missing something?\n",
    "- MSE is extremely high\n",
    "- Need to step through to figure out what isn't working as planned\n",
    "- Maybe I could simplify this code? I wanted a neuron to be a class so they can be treated as object\n",
    "- Sorry if you find the approach naive, EOD work is not typically my best\n",
    "\n",
    "## Description of the Neuron\n",
    "The neuron class is made to simulate the neurons learned about in class, primarily adaline and sigmoid. Only two methods are accessible outside of the class, `Neuron.fit()` and `Neuron.predict()`. The process intended is as follows:\n",
    "1. Create Neuron object with desired attributes. You can choose the activation function, descent mode, set the number of predictors (dim; dimensions), learning rate and maximum number of epochs\n",
    "2. Train the neuron using the `Neuron.fit()` method.</br>\n",
    "The idea here is that the this method will first append a column of 1's to the sample matrix so it can by multiplied by the weight vector `Neuron.W`. Then the neuron is <i>trained</i> until a MSE stops changing or the maximum number of epochs is reached. Because various activation functions or gradient descent methods can be used, I created some utility functions to perform the correct algorithm depending on how the Neuron was initialized. So first `Neuron.__train()` calls the corrent training method, `Neuron.__train_bgd()`, or `Neuron.__train_sgd()`. In both of these methods, the prediction for $y_{hat}$ is made by called the `Neuron.__activation()` method which simply performs the weighted sum of all the inputs (stored as `v`) and then passes that weighted sum to the appropriate activation function `Neuron.__activation.adaline()` for adaline, `Neuron.__activation.sigmoid_e()` for the logisitc function, or `Neuron.__activation.adaline()` for tanh. These methods are defined within the `Neuron.__activation()` method because they are not required elsewhere and for readability.\n",
    "3. Predict using the `Neuron.predict()` method."
   ]
  },
  {
   "cell_type": "code",
   "execution_count": 18,
   "id": "c1c96cd6-35a6-4ec1-8c5d-afe47021c16a",
   "metadata": {
    "execution": {
     "iopub.execute_input": "2023-05-26T02:13:40.651002Z",
     "iopub.status.busy": "2023-05-26T02:13:40.650592Z",
     "iopub.status.idle": "2023-05-26T02:13:40.670332Z",
     "shell.execute_reply": "2023-05-26T02:13:40.669629Z",
     "shell.execute_reply.started": "2023-05-26T02:13:40.650976Z"
    },
    "tags": []
   },
   "outputs": [],
   "source": [
    "# Define Neuron\n",
    "class Neuron:\n",
    "    def __init__(self, activation=\"adaline\", descent_method=\"bgd\", dim=1, learning_rate=0.1, epochs=100):\n",
    "        logger = logging.getLogger(__name__)\n",
    "        # Check parameters\n",
    "        try:\n",
    "            if (activation != \"adaline\"   and\n",
    "                activation != \"sigmoid_e\" and \n",
    "                activation != \"sigmoid_tanh\"):\n",
    "                raise ValueError(\"Invalid mode, \\\"{}\\\", passed to neuron class. Expected \\\"adaline\\\" or \\\"sigmoid_e\\\" or \\\"sigmoid_tanh\\\".\".format(activation))\n",
    "            elif descent_method != \"sgd\" and descent_method != \"bgd\":\n",
    "                raise ValueError(\"Invalid gradient descent method, \\\"{}\\\", passed to neuron class. Expected \\\"sgd\\\" or \\\"sigmoid\\\".\".format(descent_method))\n",
    "            \n",
    "            self.activation = activation          # Adaline OR Sigmoid (Logisitc Function) OR Sigmoid (tanh)\n",
    "            self.descent_method = descent_method  # Batch/Standard Gradient Descent OR Stochastic Gradient Descent\n",
    "        except ValueError as error:\n",
    "            logger.error(error)\n",
    "            raise\n",
    "        \n",
    "        # Internal\n",
    "        self.dim = dim                            # Number of predictors\n",
    "        self.W = np.random.rand(self.dim+1, 1)    # Initialize weights to small random value\n",
    "        self.eta = learning_rate                  # Learning rate\n",
    "        self.epochs = epochs                      # Maximum number of training rounds\n",
    "        \n",
    "    # Private\n",
    "    def __activation(self, X_i):\n",
    "        # Activation Functions\n",
    "        def adaline(v):\n",
    "            # Yes, I could return v. I added this for readability\n",
    "            y_i = v\n",
    "            return y_i\n",
    "    \n",
    "        def sigmoid_e(v):\n",
    "            y_i = 1 / (1 + (math.e ** v))\n",
    "            return y_i\n",
    "    \n",
    "        def sigmoid_tanh(v):\n",
    "            y_i = math.tanh(v)\n",
    "            return y_i\n",
    "        \n",
    "        # net input (weighted sum)\n",
    "        v = self.W.T @ X_i\n",
    "        \n",
    "        if self.activation == \"adaline\":\n",
    "            return adaline(v=v)\n",
    "        elif self.activation == \"sigmoid_e\":\n",
    "            return sigmoid_e(v=v)\n",
    "        elif self.activation == \"sigmoid_tanh\":\n",
    "            return sigmoid_tanh(v=v)\n",
    "    \n",
    "    # Training and Gradient Descent\n",
    "    # Batch/Standard Gradient Descent\n",
    "    def __train_bgd(self, X_, Y_):\n",
    "        # Initialize weight delta vector\n",
    "        delta_W = np.zeros(shape = self.W.shape)\n",
    "        # For each sample x_i in X_\n",
    "        for i in range(X_.shape[0]):\n",
    "            y_i = self.__activation(X_[i])\n",
    "            # For each weight vector component w_j in W\n",
    "            for j in range(self.W.shape[0]):\n",
    "                delta_W[j] = delta_W[j] + (self.eta * (Y_[j] - y_i) * X_[i][j])\n",
    "        \n",
    "        # For each weight vector component w_j in W\n",
    "        for j in range(self.W.shape[0]):\n",
    "            self.W[j] = self.W[j] + delta_W[j]\n",
    "        return\n",
    "    \n",
    "    # Stochastic/Incremental Gradient Descent\n",
    "    def __train_sgd(self, X_, Y_):\n",
    "        # For each sample x_i in X_\n",
    "        for i in range(X_.shape[0]):\n",
    "            y_i = self.__activation(X_[i])\n",
    "            # For each weight vector component w_j in W\n",
    "            for j in range(self.W.shape[0]):\n",
    "                self.W[j] = self.W[j] + (self.eta * (Y_[j] - y_i) * X_[i][j])\n",
    "        return\n",
    "    \n",
    "    # Select Training Method\n",
    "    def __train(self, X_, Y_):\n",
    "        if self.descent_method == \"bgd\":\n",
    "            self.__train_bgd(X_, Y_)\n",
    "            return self.__MSE(X_, Y_)\n",
    "        elif self.descent_method == \"sgd\":\n",
    "            self.__train_sgd(X_, Y_)\n",
    "            return self.__MSE(X_, Y_)\n",
    "    \n",
    "    # Mean Squared Error\n",
    "    def __MSE(self, X_, Y_):\n",
    "        sum_of_error = 0\n",
    "        n = X_.shape[0]\n",
    "        # for every sample in X_\n",
    "        for i in range(n):\n",
    "            y_i_hat = self.__activation(X_[i])\n",
    "            squared_error = (Y_[i] - y_i_hat) ** 2\n",
    "            sum_of_error += squared_error\n",
    "        return sum_of_error / n\n",
    "    \n",
    "    # Public\n",
    "    def fit(self, X_, Y_):\n",
    "        # Add x0=1 column to X_\n",
    "        X_ = np.append(np.ones((X_.shape[0], 1)), X_, axis=1)\n",
    "        delta_MSE = math.inf\n",
    "        last_MSE = math.inf\n",
    "        epoch = 0\n",
    "        # Until training stops or max epochs are reached\n",
    "        while epoch < self.epochs:\n",
    "            MSE = self.__train(X_, Y_)\n",
    "            delta_MSE = last_MSE - MSE\n",
    "            last_MSE = MSE\n",
    "            epoch += 1\n",
    "        print(\"EPOCHS: {}\".format(epoch))\n",
    "        # Return MSE on the training data\n",
    "        return self.__MSE(X_, Y_)\n",
    "    \n",
    "    def predict(self, X_):\n",
    "        X_ = np.append(np.ones((X_.shape[0], 1)), X_, axis=1)\n",
    "        y_pred = np.array([X_.shape[0], 1])\n",
    "        # for every sample in X_, predict y_i_hat\n",
    "        for i in range(X_.shape[0]):\n",
    "            y_pred[i] = self.__activation(X_[i])\n",
    "        return y_pred"
   ]
  },
  {
   "cell_type": "code",
   "execution_count": 30,
   "id": "2d6616a0-142c-43de-903b-e6fcb977dff5",
   "metadata": {
    "execution": {
     "iopub.execute_input": "2023-05-26T02:23:48.343341Z",
     "iopub.status.busy": "2023-05-26T02:23:48.342973Z",
     "iopub.status.idle": "2023-05-26T02:23:49.320268Z",
     "shell.execute_reply": "2023-05-26T02:23:49.319485Z",
     "shell.execute_reply.started": "2023-05-26T02:23:48.343315Z"
    },
    "tags": []
   },
   "outputs": [
    {
     "name": "stdout",
     "output_type": "stream",
     "text": [
      "EPOCHS: 10\n"
     ]
    }
   ],
   "source": [
    "n = Neuron(epochs=10)\n",
    "MSE = n.fit(X_, Y_)"
   ]
  },
  {
   "cell_type": "code",
   "execution_count": 31,
   "id": "61dea259-1f8e-4be5-9109-195554503055",
   "metadata": {
    "execution": {
     "iopub.execute_input": "2023-05-26T02:23:50.548061Z",
     "iopub.status.busy": "2023-05-26T02:23:50.547693Z",
     "iopub.status.idle": "2023-05-26T02:23:50.556495Z",
     "shell.execute_reply": "2023-05-26T02:23:50.555879Z",
     "shell.execute_reply.started": "2023-05-26T02:23:50.548036Z"
    },
    "tags": []
   },
   "outputs": [
    {
     "data": {
      "text/plain": [
       "array([1.59177465e+55])"
      ]
     },
     "execution_count": 31,
     "metadata": {},
     "output_type": "execute_result"
    }
   ],
   "source": [
    "MSE"
   ]
  },
  {
   "cell_type": "code",
   "execution_count": null,
   "id": "f54b7709-9577-4195-ac9f-4671f0da310e",
   "metadata": {},
   "outputs": [],
   "source": []
  }
 ],
 "metadata": {
  "kernelspec": {
   "display_name": "saturn (Python 3)",
   "language": "python",
   "name": "python3"
  },
  "language_info": {
   "codemirror_mode": {
    "name": "ipython",
    "version": 3
   },
   "file_extension": ".py",
   "mimetype": "text/x-python",
   "name": "python",
   "nbconvert_exporter": "python",
   "pygments_lexer": "ipython3",
   "version": "3.9.15"
  }
 },
 "nbformat": 4,
 "nbformat_minor": 5
}
